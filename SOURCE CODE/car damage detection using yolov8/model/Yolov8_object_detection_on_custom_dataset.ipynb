{
 "cells": [
  {
   "cell_type": "code",
   "execution_count": null,
   "metadata": {
    "colab": {
     "base_uri": "https://localhost:8080/"
    },
    "id": "Y8cDtxLIBHgQ",
    "outputId": "b1bb2281-f9e6-45af-fec4-f95ed2404792"
   },
   "outputs": [],
   "source": [
    "# !nvidia-smi"
   ]
  },
  {
   "cell_type": "code",
   "execution_count": 1,
   "metadata": {
    "colab": {
     "base_uri": "https://localhost:8080/"
    },
    "id": "CjpPg4mGKc1v",
    "outputId": "506a6a19-22a5-415c-a02d-4e4d17dccf30"
   },
   "outputs": [
    {
     "name": "stdout",
     "output_type": "stream",
     "text": [
      "/Users/akhilmuthyam/Downloads/JPPY2418-A System for Automated Vehicle Damage/SOURCE CODE/car damage detection using yolov8/model\n"
     ]
    }
   ],
   "source": [
    "import os\n",
    "HOME = os.getcwd()\n",
    "print(HOME)"
   ]
  },
  {
   "cell_type": "code",
   "execution_count": 2,
   "metadata": {},
   "outputs": [],
   "source": [
    "# !pip install ultralytics==8.0.20"
   ]
  },
  {
   "cell_type": "code",
   "execution_count": 2,
   "metadata": {
    "colab": {
     "base_uri": "https://localhost:8080/"
    },
    "id": "tdSMcABDNKW-",
    "outputId": "b7e777a1-8a18-4be0-9812-0a7910f0c6c2"
   },
   "outputs": [
    {
     "name": "stdout",
     "output_type": "stream",
     "text": [
      "Ultralytics 8.3.68 🚀 Python-3.10.4 torch-2.3.0 CPU (Apple M1)\n",
      "Setup complete ✅ (8 CPUs, 8.0 GB RAM, 198.8/228.3 GB disk)\n"
     ]
    }
   ],
   "source": [
    "# Pip install method (recommended)\n",
    "\n",
    "\n",
    "\n",
    "from IPython import display\n",
    "display.clear_output()\n",
    "\n",
    "import ultralytics\n",
    "ultralytics.checks()"
   ]
  },
  {
   "cell_type": "code",
   "execution_count": 3,
   "metadata": {
    "id": "VOEYrlBoP9-E"
   },
   "outputs": [],
   "source": [
    "from ultralytics import YOLO\n",
    "from IPython.display import display, Image"
   ]
  },
  {
   "cell_type": "code",
   "execution_count": 4,
   "metadata": {},
   "outputs": [],
   "source": [
    "import torch"
   ]
  },
  {
   "cell_type": "markdown",
   "metadata": {
    "id": "HnnZSm5OQfPQ"
   },
   "source": [
    "## CLI Basics "
   ]
  },
  {
   "cell_type": "markdown",
   "metadata": {
    "id": "K33S7zlkQku0"
   },
   "source": [
    "If you want to train, validate or run inference on models and don't need to make any modifications to the code, using YOLO command line interface is the easiest way to get started. Read more about CLI in [Ultralytics YOLO Docs](https://v8docs.ultralytics.com/cli/).\n",
    "\n",
    "```\n",
    "yolo task=detect    mode=train    model=yolov8n.yaml      args...\n",
    "          classify       predict        yolov8n-cls.yaml  args...\n",
    "          segment        val            yolov8n-seg.yaml  args...\n",
    "                         export         yolov8n.pt        format=onnx  args...\n",
    "```"
   ]
  },
  {
   "cell_type": "markdown",
   "metadata": {
    "id": "s5RGYA6sPgEd"
   },
   "source": [
    "## Inference with Pre-trained COCO Model"
   ]
  },
  {
   "cell_type": "markdown",
   "metadata": {
    "id": "fT1qD4toTTw0"
   },
   "source": [
    "### 💻 CLI"
   ]
  },
  {
   "cell_type": "markdown",
   "metadata": {
    "id": "ZaE1kLS8R4CV"
   },
   "source": [
    "`yolo mode=predict` runs YOLOv8 inference on a variety of sources, downloading models automatically from the latest YOLOv8 release, and saving results to `runs/predict`."
   ]
  },
  {
   "cell_type": "code",
   "execution_count": 5,
   "metadata": {
    "colab": {
     "base_uri": "https://localhost:8080/"
    },
    "id": "FDbMt_M6PiXb",
    "outputId": "db49b609-cfb3-4773-e4e6-81614d111b7b"
   },
   "outputs": [
    {
     "name": "stdout",
     "output_type": "stream",
     "text": [
      "/Users/akhilmuthyam/Downloads/JPPY2418-A System for Automated Vehicle Damage/SOURCE CODE/car damage detection using yolov8/model\n",
      "Ultralytics 8.3.68 🚀 Python-3.10.4 torch-2.3.0 CPU (Apple M1)\n",
      "YOLOv8n summary (fused): 168 layers, 3,151,904 parameters, 0 gradients, 8.7 GFLOPs\n",
      "\n",
      "Downloading https://media.roboflow.com/notebooks/examples/dog.jpeg to 'dog.jpeg'...\n",
      "⚠️ Download failure, retrying 1/3 https://media.roboflow.com/notebooks/examples/dog.jpeg...\n",
      "################################                                               ######################################### 100.0%\n",
      "image 1/1 /Users/akhilmuthyam/Downloads/JPPY2418-A System for Automated Vehicle Damage/SOURCE CODE/car damage detection using yolov8/model/dog.jpeg: 640x384 1 person, 1 car, 1 dog, 89.0ms\n",
      "Speed: 3.2ms preprocess, 89.0ms inference, 7.1ms postprocess per image at shape (1, 3, 640, 384)\n",
      "Results saved to \u001b[1mruns/detect/predict\u001b[0m\n",
      "💡 Learn more at https://docs.ultralytics.com/modes/predict\n"
     ]
    }
   ],
   "source": [
    "%cd {HOME}\n",
    "!yolo task=detect mode=predict model=yolov8n.pt conf=0.25 source='https://media.roboflow.com/notebooks/examples/dog.jpeg'"
   ]
  },
  {
   "cell_type": "code",
   "execution_count": 7,
   "metadata": {
    "id": "LyopYpK1TQrB"
   },
   "outputs": [],
   "source": [
    "# %cd {HOME}\n",
    "# Image(filename='runs/detect/predict/dog.jpeg', height=600)"
   ]
  },
  {
   "cell_type": "markdown",
   "metadata": {
    "id": "AFMBYQtMVL-B"
   },
   "source": [
    "### 🐍 Python SDK\n",
    "\n",
    "The simplest way of simply using YOLOv8 directly in a Python environment."
   ]
  },
  {
   "cell_type": "code",
   "execution_count": null,
   "metadata": {
    "colab": {
     "base_uri": "https://localhost:8080/"
    },
    "id": "Rx9NWF-sVN6Y",
    "outputId": "42c68241-8b5a-4597-d5f0-e6a7867f4a79"
   },
   "outputs": [],
   "source": [
    "model = YOLO(f'{HOME}/yolov8n.pt')\n",
    "results = model.predict(source='https://media.roboflow.com/notebooks/examples/dog.jpeg', conf=0.25)"
   ]
  },
  {
   "cell_type": "code",
   "execution_count": null,
   "metadata": {
    "colab": {
     "base_uri": "https://localhost:8080/"
    },
    "id": "kAi4PvrItTCf",
    "outputId": "6d5e0223-b5ad-4b40-8094-854c7c6c4e63"
   },
   "outputs": [],
   "source": [
    "results[0].boxes.xyxy"
   ]
  },
  {
   "cell_type": "code",
   "execution_count": null,
   "metadata": {
    "colab": {
     "base_uri": "https://localhost:8080/"
    },
    "id": "HqT2M01K1LUb",
    "outputId": "a33586ac-fe54-48a3-f52e-675a3197e13e"
   },
   "outputs": [],
   "source": [
    "results[0].boxes.conf"
   ]
  },
  {
   "cell_type": "code",
   "execution_count": null,
   "metadata": {
    "colab": {
     "base_uri": "https://localhost:8080/"
    },
    "id": "gKIwJ5yw1PMb",
    "outputId": "e31f0368-787e-4749-81bb-2c0a636026d9"
   },
   "outputs": [],
   "source": [
    "results[0].boxes.cls"
   ]
  },
  {
   "cell_type": "markdown",
   "metadata": {
    "id": "YUjFBKKqXa-u"
   },
   "source": [
    "## Custom Training"
   ]
  },
  {
   "cell_type": "code",
   "execution_count": 12,
   "metadata": {
    "colab": {
     "base_uri": "https://localhost:8080/"
    },
    "id": "a_di00JWpOX8",
    "outputId": "e5dd734d-7a62-4b11-a46b-ebbd6ad8d669"
   },
   "outputs": [],
   "source": [
    "# from google.colab import drive\n",
    "# drive.mount('/content/drive')"
   ]
  },
  {
   "cell_type": "code",
   "execution_count": null,
   "metadata": {
    "colab": {
     "base_uri": "https://localhost:8080/"
    },
    "id": "hadnMgv2pahh",
    "outputId": "fa0dd8af-4ba5-4573-d2a1-a070f97a63fd"
   },
   "outputs": [],
   "source": [
    "%cd C:\\Users\\user\\Desktop\\New folder (5)\\model"
   ]
  },
  {
   "cell_type": "code",
   "execution_count": null,
   "metadata": {
    "colab": {
     "base_uri": "https://localhost:8080/"
    },
    "id": "D2YkphuiaE7_",
    "outputId": "41f751df-c3d2-40ab-8911-1075d953a88d"
   },
   "outputs": [],
   "source": [
    "%cd C:\\Users\\user\\Desktop\\New folder (5)\\model\n",
    "\n",
    "!yolo task=detect mode=train model=yolov8s.pt data = data.yaml epochs=100 imgsz=224 plots=True"
   ]
  },
  {
   "cell_type": "code",
   "execution_count": null,
   "metadata": {
    "colab": {
     "base_uri": "https://localhost:8080/"
    },
    "id": "1MScstfHhArr",
    "outputId": "6234125f-cc5e-4d76-d3c6-ae9c60ef7ba2"
   },
   "outputs": [],
   "source": [
    "# !ls runs/detect/train/"
   ]
  },
  {
   "cell_type": "code",
   "execution_count": null,
   "metadata": {
    "colab": {
     "base_uri": "https://localhost:8080/",
     "height": 467
    },
    "id": "_J35i8Ofhjxa",
    "outputId": "1e55f36d-94db-4ff7-a0ae-2e43e4c076fb"
   },
   "outputs": [],
   "source": [
    "Image(filename='runs/detect/train7/confusion_matrix.png', width=600)"
   ]
  },
  {
   "cell_type": "code",
   "execution_count": null,
   "metadata": {
    "colab": {
     "base_uri": "https://localhost:8080/",
     "height": 317
    },
    "id": "A-urTWUkhRmn",
    "outputId": "b3f539d3-8cff-4d9b-928c-6c6d3cc11b93"
   },
   "outputs": [],
   "source": [
    "Image(filename='C:\\Users\\IT Support\\Downloads\\yolov8\\YOLO-v8-Object-Detection-main\\yolo-V8\\runs\\detect\\train7\\results.png', width=600)"
   ]
  },
  {
   "cell_type": "code",
   "execution_count": null,
   "metadata": {
    "colab": {
     "base_uri": "https://localhost:8080/",
     "height": 617
    },
    "id": "HI4nADCCj3F5",
    "outputId": "0f7f34bf-b1a5-4771-ddd4-e76155f3659f"
   },
   "outputs": [],
   "source": [
    "Image(filename='runs/detect/train6/val_batch0_pred.jpg', width=600)"
   ]
  },
  {
   "cell_type": "markdown",
   "metadata": {
    "id": "6ODk1VTlevxn"
   },
   "source": [
    "## Validate Custom Model"
   ]
  },
  {
   "cell_type": "code",
   "execution_count": null,
   "metadata": {
    "colab": {
     "base_uri": "https://localhost:8080/"
    },
    "id": "YpyuwrNlXc1P",
    "outputId": "45b46859-ecb4-4c2c-d1f5-ed23f8d703ee"
   },
   "outputs": [],
   "source": [
    "!yolo task=detect mode=val model=runs/detect/train2/weights/best.pt data=data.yaml"
   ]
  },
  {
   "cell_type": "markdown",
   "metadata": {
    "id": "i4eASbcWkQBq"
   },
   "source": [
    "## Inference with Custom Model"
   ]
  },
  {
   "cell_type": "code",
   "execution_count": null,
   "metadata": {
    "colab": {
     "base_uri": "https://localhost:8080/"
    },
    "id": "Wjc1ctZykYuf",
    "outputId": "b722bbbe-ece3-4b91-f804-5fc3798d1210"
   },
   "outputs": [],
   "source": [
    "!yolo task=detect mode=predict model=runs/detect/train2/weights/best.pt conf=0.25 source=data/test/images"
   ]
  },
  {
   "cell_type": "markdown",
   "metadata": {
    "id": "mEYIo95n-I0S"
   },
   "source": [
    "**NOTE:** Let's take a look at few results."
   ]
  },
  {
   "cell_type": "code",
   "execution_count": null,
   "metadata": {
    "id": "jbVjEtPAkz3j"
   },
   "outputs": [],
   "source": [
    "import glob\n",
    "from IPython.display import Image, display\n",
    "\n",
    "for image_path in glob.glob('runs/detect/predict/*.jpg')[:3]:\n",
    "      display(Image(filename=image_path, width=600))\n",
    "      print(\"\\n\")"
   ]
  },
  {
   "cell_type": "code",
   "execution_count": 6,
   "metadata": {},
   "outputs": [
    {
     "name": "stdout",
     "output_type": "stream",
     "text": [
      "68\n"
     ]
    }
   ],
   "source": [
    "print(45+23)"
   ]
  },
  {
   "cell_type": "code",
   "execution_count": null,
   "metadata": {},
   "outputs": [],
   "source": []
  }
 ],
 "metadata": {
  "accelerator": "GPU",
  "colab": {
   "provenance": []
  },
  "gpuClass": "standard",
  "kernelspec": {
   "display_name": "Python 3 (ipykernel)",
   "language": "python",
   "name": "python3"
  },
  "language_info": {
   "codemirror_mode": {
    "name": "ipython",
    "version": 3
   },
   "file_extension": ".py",
   "mimetype": "text/x-python",
   "name": "python",
   "nbconvert_exporter": "python",
   "pygments_lexer": "ipython3",
   "version": "3.10.4"
  }
 },
 "nbformat": 4,
 "nbformat_minor": 1
}
